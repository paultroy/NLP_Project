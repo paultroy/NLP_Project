{
 "cells": [
  {
   "cell_type": "code",
   "execution_count": 1,
   "id": "8ff5c188",
   "metadata": {},
   "outputs": [],
   "source": [
    "import pandas as pd\n",
    "\n",
    "import gensim\n",
    "from gensim.utils import simple_preprocess\n",
    "from gensim.parsing.preprocessing import STOPWORDS\n",
    "\n",
    "from nltk.stem import WordNetLemmatizer\n",
    "\n",
    "import spacy\n",
    "from spacy.symbols import amod\n",
    "nlp = spacy.load('en_core_web_sm')\n",
    "\n",
    "from pprint import pprint\n",
    "\n",
    "from collections import Counter"
   ]
  },
  {
   "cell_type": "code",
   "execution_count": 2,
   "id": "147b9984",
   "metadata": {},
   "outputs": [],
   "source": [
    "df_jackets = pd.read_pickle(\"df_jackets_final.pkl\")"
   ]
  },
  {
   "cell_type": "code",
   "execution_count": 3,
   "id": "70c9eee3",
   "metadata": {},
   "outputs": [
    {
     "data": {
      "text/html": [
       "<div>\n",
       "<style scoped>\n",
       "    .dataframe tbody tr th:only-of-type {\n",
       "        vertical-align: middle;\n",
       "    }\n",
       "\n",
       "    .dataframe tbody tr th {\n",
       "        vertical-align: top;\n",
       "    }\n",
       "\n",
       "    .dataframe thead th {\n",
       "        text-align: right;\n",
       "    }\n",
       "</style>\n",
       "<table border=\"1\" class=\"dataframe\">\n",
       "  <thead>\n",
       "    <tr style=\"text-align: right;\">\n",
       "      <th></th>\n",
       "      <th>url</th>\n",
       "      <th>jacket_name</th>\n",
       "      <th>manufacturer</th>\n",
       "      <th>jacket_price</th>\n",
       "      <th>total_rating</th>\n",
       "      <th>num_reviews</th>\n",
       "      <th>review_titles</th>\n",
       "      <th>review_ratings</th>\n",
       "      <th>review_text</th>\n",
       "    </tr>\n",
       "  </thead>\n",
       "  <tbody>\n",
       "    <tr>\n",
       "      <th>0</th>\n",
       "      <td>https://www.evo.com/outlet/shell-jackets/thirt...</td>\n",
       "      <td>thirtytwo Light Anorak</td>\n",
       "      <td>thirtytwo</td>\n",
       "      <td>$134.99 SaleOrig: $199.95</td>\n",
       "      <td>5.0</td>\n",
       "      <td>4 Reviews</td>\n",
       "      <td>Super cool and warm</td>\n",
       "      <td>5</td>\n",
       "      <td>Great looking cool jacket waterproof and warm ...</td>\n",
       "    </tr>\n",
       "    <tr>\n",
       "      <th>0</th>\n",
       "      <td>https://www.evo.com/outlet/shell-jackets/thirt...</td>\n",
       "      <td>thirtytwo Light Anorak</td>\n",
       "      <td>thirtytwo</td>\n",
       "      <td>$134.99 SaleOrig: $199.95</td>\n",
       "      <td>5.0</td>\n",
       "      <td>4 Reviews</td>\n",
       "      <td>Dry and warm</td>\n",
       "      <td>5</td>\n",
       "      <td>Great coat for fall and probably into winter a...</td>\n",
       "    </tr>\n",
       "    <tr>\n",
       "      <th>0</th>\n",
       "      <td>https://www.evo.com/outlet/shell-jackets/thirt...</td>\n",
       "      <td>thirtytwo Light Anorak</td>\n",
       "      <td>thirtytwo</td>\n",
       "      <td>$134.99 SaleOrig: $199.95</td>\n",
       "      <td>5.0</td>\n",
       "      <td>4 Reviews</td>\n",
       "      <td>Stylish and functional</td>\n",
       "      <td>5</td>\n",
       "      <td>Love this jacket, stylish and functional. It k...</td>\n",
       "    </tr>\n",
       "    <tr>\n",
       "      <th>0</th>\n",
       "      <td>https://www.evo.com/outlet/shell-jackets/thirt...</td>\n",
       "      <td>thirtytwo Light Anorak</td>\n",
       "      <td>thirtytwo</td>\n",
       "      <td>$134.99 SaleOrig: $199.95</td>\n",
       "      <td>5.0</td>\n",
       "      <td>4 Reviews</td>\n",
       "      <td>Love it</td>\n",
       "      <td>5</td>\n",
       "      <td>Love this jacket, roomy fit, glad I didn't go ...</td>\n",
       "    </tr>\n",
       "    <tr>\n",
       "      <th>1</th>\n",
       "      <td>https://www.evo.com/insulated-jackets/l1-fairb...</td>\n",
       "      <td>L1 Fairbanks Jacket - Women's</td>\n",
       "      <td>L1</td>\n",
       "      <td>$298.95</td>\n",
       "      <td>5.0</td>\n",
       "      <td>1 Review</td>\n",
       "      <td>Love this</td>\n",
       "      <td>5</td>\n",
       "      <td>So warm and comfortable. Easy to move in, just...</td>\n",
       "    </tr>\n",
       "  </tbody>\n",
       "</table>\n",
       "</div>"
      ],
      "text/plain": [
       "                                                 url  \\\n",
       "0  https://www.evo.com/outlet/shell-jackets/thirt...   \n",
       "0  https://www.evo.com/outlet/shell-jackets/thirt...   \n",
       "0  https://www.evo.com/outlet/shell-jackets/thirt...   \n",
       "0  https://www.evo.com/outlet/shell-jackets/thirt...   \n",
       "1  https://www.evo.com/insulated-jackets/l1-fairb...   \n",
       "\n",
       "                     jacket_name manufacturer               jacket_price  \\\n",
       "0         thirtytwo Light Anorak    thirtytwo  $134.99 SaleOrig: $199.95   \n",
       "0         thirtytwo Light Anorak    thirtytwo  $134.99 SaleOrig: $199.95   \n",
       "0         thirtytwo Light Anorak    thirtytwo  $134.99 SaleOrig: $199.95   \n",
       "0         thirtytwo Light Anorak    thirtytwo  $134.99 SaleOrig: $199.95   \n",
       "1  L1 Fairbanks Jacket - Women's           L1                    $298.95   \n",
       "\n",
       "   total_rating num_reviews           review_titles review_ratings  \\\n",
       "0           5.0   4 Reviews     Super cool and warm              5   \n",
       "0           5.0   4 Reviews            Dry and warm              5   \n",
       "0           5.0   4 Reviews  Stylish and functional              5   \n",
       "0           5.0   4 Reviews                 Love it              5   \n",
       "1           5.0    1 Review               Love this              5   \n",
       "\n",
       "                                         review_text  \n",
       "0  Great looking cool jacket waterproof and warm ...  \n",
       "0  Great coat for fall and probably into winter a...  \n",
       "0  Love this jacket, stylish and functional. It k...  \n",
       "0  Love this jacket, roomy fit, glad I didn't go ...  \n",
       "1  So warm and comfortable. Easy to move in, just...  "
      ]
     },
     "execution_count": 3,
     "metadata": {},
     "output_type": "execute_result"
    }
   ],
   "source": [
    "df_jackets.head()"
   ]
  },
  {
   "cell_type": "code",
   "execution_count": 4,
   "id": "6b54ef61",
   "metadata": {},
   "outputs": [],
   "source": [
    "# Lemmatize corpus and remove stopwords\n",
    "\n",
    "stop_words = STOPWORDS.union([\"jacket\", \"jackets\",\"coat\",\"product\",\"layer\",\"day\",\"winter\", \"color\",\"colors\",\n",
    "                              \"return\", \"time\", \"year\"])\n",
    "\n",
    "def lemmatize(text):\n",
    "    return WordNetLemmatizer().lemmatize(text)\n",
    "                        \n",
    "def preprocess(text):\n",
    "    result = []\n",
    "    for token in simple_preprocess(text):\n",
    "        if token not in stop_words and len(token) > 3 or (token == 'enough' or \n",
    "                                                         token == 'few' or token == 'front' or \n",
    "                                                         token == 'full' or token == 'more'):\n",
    "            result.append(lemmatize(token))\n",
    "    return result"
   ]
  },
  {
   "cell_type": "code",
   "execution_count": 5,
   "id": "f383d2b8",
   "metadata": {},
   "outputs": [],
   "source": [
    "processed_docs = df_jackets['review_text'].map(preprocess)\n",
    "df_jackets[\"processed_docs\"] = processed_docs"
   ]
  },
  {
   "cell_type": "code",
   "execution_count": 6,
   "id": "37b285ac",
   "metadata": {},
   "outputs": [],
   "source": [
    "processed_docs_list = [' '.join(doc) for doc in processed_docs]"
   ]
  },
  {
   "cell_type": "code",
   "execution_count": 7,
   "id": "bd7b8335",
   "metadata": {},
   "outputs": [],
   "source": [
    "spacy_processed_docs = list(nlp.pipe(processed_docs_list))\n",
    "df_jackets[\"spacy_processed_docs\"] = spacy_processed_docs"
   ]
  },
  {
   "cell_type": "code",
   "execution_count": 8,
   "id": "7cd01980",
   "metadata": {},
   "outputs": [],
   "source": [
    "# Segregate positive and negative reviews. Only include 1, 2 and 5 star ratings b/c 3 and 4 star ratings are...\n",
    "# ... more likely to have indifferent sentiment\n",
    "\n",
    "df_jackets[\"review_ratings\"] = df_jackets[\"review_ratings\"].astype(int)\n",
    "\n",
    "positive_reviews = df_jackets[df_jackets[\"review_ratings\"] == 5]\n",
    "negative_reviews = df_jackets[(df_jackets[\"review_ratings\"] == 1) | (df_jackets[\"review_ratings\"] == 2)]"
   ]
  },
  {
   "cell_type": "code",
   "execution_count": 9,
   "id": "dbb97b5f",
   "metadata": {},
   "outputs": [],
   "source": [
    "# Separate positive and negative adjectives \n",
    "\n",
    "pos_adj = [token.text for doc in positive_reviews[\"spacy_processed_docs\"] for token in doc if token.pos_=='ADJ']\n",
    "neg_adj = [token.text for doc in negative_reviews[\"spacy_processed_docs\"] for token in doc if token.pos_=='ADJ']\n",
    "\n",
    "pos_noun = [token.text for doc in positive_reviews[\"spacy_processed_docs\"] for token in doc if token.pos_=='NOUN']\n",
    "neg_noun = [token.text for doc in negative_reviews[\"spacy_processed_docs\"] for token in doc if token.pos_=='NOUN']"
   ]
  },
  {
   "cell_type": "code",
   "execution_count": 10,
   "id": "4becdc6f",
   "metadata": {},
   "outputs": [
    {
     "data": {
      "text/plain": [
       "[('great', 1574),\n",
       " ('warm', 1385),\n",
       " ('perfect', 714),\n",
       " ('comfortable', 449),\n",
       " ('good', 413),\n",
       " ('cold', 381),\n",
       " ('fit', 379),\n",
       " ('nice', 375),\n",
       " ('small', 346),\n",
       " ('large', 331)]"
      ]
     },
     "execution_count": 10,
     "metadata": {},
     "output_type": "execute_result"
    }
   ],
   "source": [
    "# Positive reviews talk most about warmth, comfort and fit\n",
    "\n",
    "Counter(pos_adj).most_common(10)"
   ]
  },
  {
   "cell_type": "code",
   "execution_count": 11,
   "id": "452b09f4",
   "metadata": {},
   "outputs": [
    {
     "data": {
      "text/plain": [
       "[('small', 54),\n",
       " ('great', 52),\n",
       " ('warm', 45),\n",
       " ('large', 44),\n",
       " ('good', 38),\n",
       " ('disappointed', 35),\n",
       " ('few', 28),\n",
       " ('long', 26),\n",
       " ('more', 26),\n",
       " ('short', 22)]"
      ]
     },
     "execution_count": 11,
     "metadata": {},
     "output_type": "execute_result"
    }
   ],
   "source": [
    "# Negative reviews talk most about fit\n",
    "\n",
    "Counter(neg_adj).most_common(10)"
   ]
  },
  {
   "cell_type": "code",
   "execution_count": 12,
   "id": "ee5c3e2f",
   "metadata": {},
   "outputs": [
    {
     "data": {
      "text/plain": [
       "[('pocket', 825),\n",
       " ('love', 784),\n",
       " ('size', 612),\n",
       " ('shell', 363),\n",
       " ('day', 340),\n",
       " ('hood', 331),\n",
       " ('quality', 327),\n",
       " ('weather', 302),\n",
       " ('snow', 289),\n",
       " ('skiing', 274)]"
      ]
     },
     "execution_count": 12,
     "metadata": {},
     "output_type": "execute_result"
    }
   ],
   "source": [
    "# Happy customers talk about pockets most often. Hood is another ski jacket feature that happy customers write about.\n",
    "\n",
    "Counter(pos_noun).most_common(10)"
   ]
  },
  {
   "cell_type": "code",
   "execution_count": 13,
   "id": "57bf024f",
   "metadata": {},
   "outputs": [
    {
     "data": {
      "text/plain": [
       "[('pocket', 114),\n",
       " ('size', 79),\n",
       " ('quality', 78),\n",
       " ('zipper', 77),\n",
       " ('material', 45),\n",
       " ('chest', 44),\n",
       " ('sleeve', 39),\n",
       " ('love', 36),\n",
       " ('year', 36),\n",
       " ('warranty', 34)]"
      ]
     },
     "execution_count": 13,
     "metadata": {},
     "output_type": "execute_result"
    }
   ],
   "source": [
    "# Unhappy customers complain about pockets and also zippers\n",
    "\n",
    "Counter(neg_noun).most_common(10)"
   ]
  },
  {
   "cell_type": "code",
   "execution_count": 14,
   "id": "8f743325",
   "metadata": {},
   "outputs": [],
   "source": [
    "# Investigate adjectival modifiers to understand dependency for nouns with the written reviews\n",
    "\n",
    "def get_amods(noun, ser):\n",
    "    amod_list = []\n",
    "    for doc in ser:\n",
    "        for token in doc:\n",
    "            if (token.text) == noun:\n",
    "                for child in token.children:\n",
    "                    if child.dep == amod:\n",
    "                        amod_list.append(child.text.lower())\n",
    "    return Counter(amod_list).most_common(10)\n",
    "\n",
    "def amods_by_sentiment(noun):\n",
    "    print(f\"Adjectives describing {str.upper(noun)}:\\n\")\n",
    "    \n",
    "    print(\"POSITIVE:\")\n",
    "    pprint(get_amods(noun, positive_reviews.spacy_processed_docs))\n",
    "    \n",
    "    print(\"\\nNEGATIVE:\")\n",
    "    pprint(get_amods(noun, negative_reviews.spacy_processed_docs))"
   ]
  },
  {
   "cell_type": "code",
   "execution_count": 15,
   "id": "02aed4f1",
   "metadata": {},
   "outputs": [
    {
     "name": "stdout",
     "output_type": "stream",
     "text": [
      "Adjectives describing POCKET:\n",
      "\n",
      "POSITIVE:\n",
      "[('great', 33),\n",
      " ('plenty', 33),\n",
      " ('warm', 33),\n",
      " ('good', 15),\n",
      " ('front', 14),\n",
      " ('nice', 11),\n",
      " ('comfortable', 10),\n",
      " ('large', 10),\n",
      " ('enough', 9),\n",
      " ('perfect', 9)]\n",
      "\n",
      "NEGATIVE:\n",
      "[('front', 4),\n",
      " ('close', 4),\n",
      " ('left', 4),\n",
      " ('cute', 2),\n",
      " ('wrong', 2),\n",
      " ('small', 2),\n",
      " ('more', 2),\n",
      " ('enough', 2),\n",
      " ('multiple', 2),\n",
      " ('slow', 1)]\n"
     ]
    }
   ],
   "source": [
    "amods_by_sentiment(\"pocket\")"
   ]
  },
  {
   "cell_type": "code",
   "execution_count": 16,
   "id": "6441ae95",
   "metadata": {},
   "outputs": [
    {
     "name": "stdout",
     "output_type": "stream",
     "text": [
      "Adjectives describing HOOD:\n",
      "\n",
      "POSITIVE:\n",
      "[('great', 13),\n",
      " ('compatible', 9),\n",
      " ('warm', 7),\n",
      " ('adjustable', 5),\n",
      " ('large', 5),\n",
      " ('removable', 4),\n",
      " ('nice', 4),\n",
      " ('perfect', 3),\n",
      " ('good', 3),\n",
      " ('open', 3)]\n",
      "\n",
      "NEGATIVE:\n",
      "[('uncomfortable', 2),\n",
      " ('larger', 2),\n",
      " ('enough', 2),\n",
      " ('expensive', 1),\n",
      " ('curated', 1),\n",
      " ('stiff', 1),\n",
      " ('huge', 1),\n",
      " ('overall', 1),\n",
      " ('nice', 1),\n",
      " ('generous', 1)]\n"
     ]
    }
   ],
   "source": [
    "amods_by_sentiment(\"hood\")"
   ]
  },
  {
   "cell_type": "code",
   "execution_count": 17,
   "id": "f1e45959",
   "metadata": {},
   "outputs": [
    {
     "name": "stdout",
     "output_type": "stream",
     "text": [
      "Adjectives describing ZIPPER:\n",
      "\n",
      "POSITIVE:\n",
      "[('front', 12),\n",
      " ('warm', 8),\n",
      " ('main', 7),\n",
      " ('great', 7),\n",
      " ('comfortable', 5),\n",
      " ('waterproof', 4),\n",
      " ('defective', 4),\n",
      " ('durable', 4),\n",
      " ('double', 4),\n",
      " ('deep', 3)]\n",
      "\n",
      "NEGATIVE:\n",
      "[('main', 6),\n",
      " ('developed', 4),\n",
      " ('tight', 2),\n",
      " ('certain', 2),\n",
      " ('second', 2),\n",
      " ('sloppy', 2),\n",
      " ('enough', 1),\n",
      " ('upstate', 1),\n",
      " ('defective', 1),\n",
      " ('positive', 1)]\n"
     ]
    }
   ],
   "source": [
    "amods_by_sentiment(\"zipper\")"
   ]
  },
  {
   "cell_type": "code",
   "execution_count": 18,
   "id": "05688ba5",
   "metadata": {},
   "outputs": [
    {
     "name": "stdout",
     "output_type": "stream",
     "text": [
      "Adjectives describing VENT:\n",
      "\n",
      "POSITIVE:\n",
      "[('great', 9),\n",
      " ('warm', 7),\n",
      " ('open', 7),\n",
      " ('huge', 6),\n",
      " ('comfortable', 4),\n",
      " ('cool', 4),\n",
      " ('taped', 2),\n",
      " ('large', 2),\n",
      " ('front', 2),\n",
      " ('super', 2)]\n",
      "\n",
      "NEGATIVE:\n",
      "[('warm', 2)]\n"
     ]
    }
   ],
   "source": [
    "amods_by_sentiment(\"vent\")"
   ]
  },
  {
   "cell_type": "code",
   "execution_count": 19,
   "id": "8326168f",
   "metadata": {},
   "outputs": [
    {
     "name": "stdout",
     "output_type": "stream",
     "text": [
      "Adjectives describing SLEEVE:\n",
      "\n",
      "POSITIVE:\n",
      "[('long', 25),\n",
      " ('medium', 8),\n",
      " ('perfect', 7),\n",
      " ('great', 7),\n",
      " ('short', 6),\n",
      " ('large', 5),\n",
      " ('nice', 4),\n",
      " ('warm', 4),\n",
      " ('fit', 4),\n",
      " ('enough', 4)]\n",
      "\n",
      "NEGATIVE:\n",
      "[('long', 5),\n",
      " ('short', 4),\n",
      " ('great', 3),\n",
      " ('returned', 2),\n",
      " ('medium', 2),\n",
      " ('normal', 1),\n",
      " ('heavy', 1),\n",
      " ('floppy', 1),\n",
      " ('constricted', 1),\n",
      " ('tight', 1)]\n"
     ]
    }
   ],
   "source": [
    "amods_by_sentiment(\"sleeve\")"
   ]
  },
  {
   "cell_type": "code",
   "execution_count": 20,
   "id": "404df856",
   "metadata": {},
   "outputs": [
    {
     "name": "stdout",
     "output_type": "stream",
     "text": [
      "Adjectives describing COLLAR:\n",
      "\n",
      "POSITIVE:\n",
      "[('high', 8),\n",
      " ('compatible', 2),\n",
      " ('nice', 1),\n",
      " ('awesome', 1),\n",
      " ('noticed', 1),\n",
      " ('separate', 1),\n",
      " ('half', 1),\n",
      " ('similiar', 1),\n",
      " ('tactical', 1),\n",
      " ('soft', 1)]\n",
      "\n",
      "NEGATIVE:\n",
      "[('zipped', 1), ('dirty', 1), ('disappointed', 1)]\n"
     ]
    }
   ],
   "source": [
    "amods_by_sentiment(\"collar\")"
   ]
  }
 ],
 "metadata": {
  "kernelspec": {
   "display_name": "Python 3",
   "language": "python",
   "name": "python3"
  },
  "language_info": {
   "codemirror_mode": {
    "name": "ipython",
    "version": 3
   },
   "file_extension": ".py",
   "mimetype": "text/x-python",
   "name": "python",
   "nbconvert_exporter": "python",
   "pygments_lexer": "ipython3",
   "version": "3.8.8"
  }
 },
 "nbformat": 4,
 "nbformat_minor": 5
}
