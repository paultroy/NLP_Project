{
 "cells": [
  {
   "cell_type": "code",
   "execution_count": 1,
   "id": "16849d36",
   "metadata": {},
   "outputs": [],
   "source": [
    "import pandas as pd\n",
    "import matplotlib.pyplot as plt"
   ]
  },
  {
   "cell_type": "code",
   "execution_count": 2,
   "id": "745b04b8",
   "metadata": {},
   "outputs": [],
   "source": [
    "df_jackets = pd.read_pickle(\"jackets_list.pkl\")"
   ]
  },
  {
   "cell_type": "code",
   "execution_count": 3,
   "id": "e41d4703",
   "metadata": {},
   "outputs": [
    {
     "data": {
      "text/html": [
       "<div>\n",
       "<style scoped>\n",
       "    .dataframe tbody tr th:only-of-type {\n",
       "        vertical-align: middle;\n",
       "    }\n",
       "\n",
       "    .dataframe tbody tr th {\n",
       "        vertical-align: top;\n",
       "    }\n",
       "\n",
       "    .dataframe thead th {\n",
       "        text-align: right;\n",
       "    }\n",
       "</style>\n",
       "<table border=\"1\" class=\"dataframe\">\n",
       "  <thead>\n",
       "    <tr style=\"text-align: right;\">\n",
       "      <th></th>\n",
       "      <th>url</th>\n",
       "      <th>jacket_name</th>\n",
       "      <th>jacket_price</th>\n",
       "      <th>total_rating</th>\n",
       "      <th>num_reviews</th>\n",
       "      <th>review_titles</th>\n",
       "      <th>review_ratings</th>\n",
       "      <th>review_text</th>\n",
       "    </tr>\n",
       "  </thead>\n",
       "  <tbody>\n",
       "    <tr>\n",
       "      <th>0</th>\n",
       "      <td>[https://www.evo.com/outlet/shell-jackets/thir...</td>\n",
       "      <td>[thirtytwo Light Anorak]</td>\n",
       "      <td>[$134.99 SaleOrig: $199.95]</td>\n",
       "      <td>[5.0]</td>\n",
       "      <td>[4 Reviews]</td>\n",
       "      <td>[[Super cool and warm, Dry and warm, Stylish a...</td>\n",
       "      <td>[[5, 5, 5, 5]]</td>\n",
       "      <td>[[Great looking cool jacket waterproof and war...</td>\n",
       "    </tr>\n",
       "    <tr>\n",
       "      <th>1</th>\n",
       "      <td>[https://www.evo.com/insulated-jackets/l1-fair...</td>\n",
       "      <td>[L1 Fairbanks Jacket - Women's]</td>\n",
       "      <td>[$298.95]</td>\n",
       "      <td>[5.0]</td>\n",
       "      <td>[1 Review]</td>\n",
       "      <td>[[Love this]]</td>\n",
       "      <td>[[5]]</td>\n",
       "      <td>[[So warm and comfortable. Easy to move in, ju...</td>\n",
       "    </tr>\n",
       "    <tr>\n",
       "      <th>2</th>\n",
       "      <td>[https://www.evo.com/insulated-jackets/686-glc...</td>\n",
       "      <td>[686 GLCR Hydrastash Reserve Insulated Jacket]</td>\n",
       "      <td>[$369.95]</td>\n",
       "      <td>[0.0]</td>\n",
       "      <td>[No Reviews]</td>\n",
       "      <td>[[]]</td>\n",
       "      <td>[[]]</td>\n",
       "      <td>[[]]</td>\n",
       "    </tr>\n",
       "    <tr>\n",
       "      <th>3</th>\n",
       "      <td>[https://www.evo.com/outlet/shell-jackets/daki...</td>\n",
       "      <td>[Dakine Beretta 3L GORE-TEX Jacket - Women's]</td>\n",
       "      <td>[$194.99 SaleOrig: $439.95]</td>\n",
       "      <td>[4.7]</td>\n",
       "      <td>[18 Reviews]</td>\n",
       "      <td>[[Definitely good in wet weather, Room to move...</td>\n",
       "      <td>[[4, 5, 5, 5, 5, 4, 5, 2, 5, 5, 5, 5, 5, 5, 5,...</td>\n",
       "      <td>[[Definitely \"stiffer\" jacket - rubs a little ...</td>\n",
       "    </tr>\n",
       "    <tr>\n",
       "      <th>4</th>\n",
       "      <td>[https://www.evo.com/outlet/shell-jackets/oakl...</td>\n",
       "      <td>[Oakley Spellbound 2.0 Shell 3L GORE-TEX Jacke...</td>\n",
       "      <td>[$234.99 ClearanceOrig: $590.00]</td>\n",
       "      <td>[5.0]</td>\n",
       "      <td>[6 Reviews]</td>\n",
       "      <td>[[I love this jacket and actually excited for ...</td>\n",
       "      <td>[[5, 5, 5, 5, 5, 5]]</td>\n",
       "      <td>[[I do love this jacket! Iv had the same Oakle...</td>\n",
       "    </tr>\n",
       "  </tbody>\n",
       "</table>\n",
       "</div>"
      ],
      "text/plain": [
       "                                                 url  \\\n",
       "0  [https://www.evo.com/outlet/shell-jackets/thir...   \n",
       "1  [https://www.evo.com/insulated-jackets/l1-fair...   \n",
       "2  [https://www.evo.com/insulated-jackets/686-glc...   \n",
       "3  [https://www.evo.com/outlet/shell-jackets/daki...   \n",
       "4  [https://www.evo.com/outlet/shell-jackets/oakl...   \n",
       "\n",
       "                                         jacket_name  \\\n",
       "0                           [thirtytwo Light Anorak]   \n",
       "1                    [L1 Fairbanks Jacket - Women's]   \n",
       "2     [686 GLCR Hydrastash Reserve Insulated Jacket]   \n",
       "3      [Dakine Beretta 3L GORE-TEX Jacket - Women's]   \n",
       "4  [Oakley Spellbound 2.0 Shell 3L GORE-TEX Jacke...   \n",
       "\n",
       "                       jacket_price total_rating   num_reviews  \\\n",
       "0       [$134.99 SaleOrig: $199.95]        [5.0]   [4 Reviews]   \n",
       "1                         [$298.95]        [5.0]    [1 Review]   \n",
       "2                         [$369.95]        [0.0]  [No Reviews]   \n",
       "3       [$194.99 SaleOrig: $439.95]        [4.7]  [18 Reviews]   \n",
       "4  [$234.99 ClearanceOrig: $590.00]        [5.0]   [6 Reviews]   \n",
       "\n",
       "                                       review_titles  \\\n",
       "0  [[Super cool and warm, Dry and warm, Stylish a...   \n",
       "1                                      [[Love this]]   \n",
       "2                                               [[]]   \n",
       "3  [[Definitely good in wet weather, Room to move...   \n",
       "4  [[I love this jacket and actually excited for ...   \n",
       "\n",
       "                                      review_ratings  \\\n",
       "0                                     [[5, 5, 5, 5]]   \n",
       "1                                              [[5]]   \n",
       "2                                               [[]]   \n",
       "3  [[4, 5, 5, 5, 5, 4, 5, 2, 5, 5, 5, 5, 5, 5, 5,...   \n",
       "4                               [[5, 5, 5, 5, 5, 5]]   \n",
       "\n",
       "                                         review_text  \n",
       "0  [[Great looking cool jacket waterproof and war...  \n",
       "1  [[So warm and comfortable. Easy to move in, ju...  \n",
       "2                                               [[]]  \n",
       "3  [[Definitely \"stiffer\" jacket - rubs a little ...  \n",
       "4  [[I do love this jacket! Iv had the same Oakle...  "
      ]
     },
     "execution_count": 3,
     "metadata": {},
     "output_type": "execute_result"
    }
   ],
   "source": [
    "df_jackets.head()"
   ]
  },
  {
   "cell_type": "code",
   "execution_count": 4,
   "id": "c63a5a14",
   "metadata": {},
   "outputs": [
    {
     "name": "stdout",
     "output_type": "stream",
     "text": [
      "<class 'pandas.core.frame.DataFrame'>\n",
      "RangeIndex: 1156 entries, 0 to 1155\n",
      "Data columns (total 8 columns):\n",
      " #   Column          Non-Null Count  Dtype \n",
      "---  ------          --------------  ----- \n",
      " 0   url             1156 non-null   object\n",
      " 1   jacket_name     1156 non-null   object\n",
      " 2   jacket_price    1156 non-null   object\n",
      " 3   total_rating    1156 non-null   object\n",
      " 4   num_reviews     1156 non-null   object\n",
      " 5   review_titles   1156 non-null   object\n",
      " 6   review_ratings  1156 non-null   object\n",
      " 7   review_text     1156 non-null   object\n",
      "dtypes: object(8)\n",
      "memory usage: 72.4+ KB\n"
     ]
    }
   ],
   "source": [
    "df_jackets.info()"
   ]
  },
  {
   "cell_type": "code",
   "execution_count": 5,
   "id": "04745449",
   "metadata": {},
   "outputs": [],
   "source": [
    "# Remove list format for all column values \n",
    "\n",
    "df_jackets[\"url\"] = [i[0] for i in df_jackets[\"url\"]]\n",
    "df_jackets[\"jacket_name\"] = [i[0] for i in df_jackets[\"jacket_name\"]]\n",
    "df_jackets[\"jacket_price\"] = [i[0] for i in df_jackets[\"jacket_price\"]]\n",
    "df_jackets[\"total_rating\"] = [i[0] for i in df_jackets[\"total_rating\"]]\n",
    "df_jackets[\"num_reviews\"] = [i[0] for i in df_jackets[\"num_reviews\"]]\n",
    "df_jackets[\"review_titles\"] = [i[0] for i in df_jackets[\"review_titles\"]]\n",
    "df_jackets[\"review_ratings\"] = [i[0] for i in df_jackets[\"review_ratings\"]]\n",
    "df_jackets[\"review_text\"] = [i[0] for i in df_jackets[\"review_text\"]]"
   ]
  },
  {
   "cell_type": "code",
   "execution_count": 6,
   "id": "87af940c",
   "metadata": {},
   "outputs": [],
   "source": [
    "# Delete ski jackets that have missing information or no written reviews\n",
    "\n",
    "df_jackets.dropna(subset = [\"total_rating\",\"jacket_price\", \"num_reviews\"],inplace = True)\n",
    "df_jackets.drop(df_jackets[df_jackets[\"num_reviews\"] == \"No Reviews\"].index, inplace = True)\n",
    "df_jackets.reset_index(drop = True, inplace = True)"
   ]
  },
  {
   "cell_type": "code",
   "execution_count": 7,
   "id": "8135df11",
   "metadata": {
    "scrolled": true
   },
   "outputs": [],
   "source": [
    "# Unpack written review text in order to separate every review as one row\n",
    "\n",
    "df_jackets = df_jackets.explode([\"review_titles\",\"review_ratings\",\"review_text\"])"
   ]
  },
  {
   "cell_type": "code",
   "execution_count": 8,
   "id": "0868d876",
   "metadata": {},
   "outputs": [],
   "source": [
    "# Add ski jacket manufacturer column to perform EDA\n",
    "\n",
    "manufacturer = [name.split()[0] for name in df_jackets[\"jacket_name\"]]\n",
    "\n",
    "df_jackets.insert(loc=2, column='manufacturer', value=manufacturer)\n",
    "\n",
    "df_jackets[\"manufacturer\"] = df_jackets[\"manufacturer\"].str.replace(\"The\",\"The North Face\")\n",
    "df_jackets[\"manufacturer\"] = df_jackets[\"manufacturer\"].str.replace(\"Mountain\",\"Mountain Hardware\")"
   ]
  },
  {
   "cell_type": "code",
   "execution_count": 9,
   "id": "ef69dd40",
   "metadata": {},
   "outputs": [
    {
     "data": {
      "image/png": "[encoded data removed]",
      "text/plain": [
       "<Figure size 576x432 with 1 Axes>"
      ]
     },
     "metadata": {
      "needs_background": "light"
     },
     "output_type": "display_data"
    }
   ],
   "source": [
    "# Get a sense for distribution of different manufacturers within data set\n",
    "\n",
    "ax = (df_jackets.groupby(\"manufacturer\").count().sort_values(\"jacket_name\",ascending = False)[[\"url\"]]\n",
    "      .head(10).plot(kind=\"bar\",fontsize = 14, legend = None, figsize = (8,6)))\n",
    "plt.title('Reviews by Manufacturer', fontsize=14)\n",
    "plt.ylabel(\"Number of Reviews\", fontsize=14)\n",
    "plt.xlabel(\"\")\n",
    "\n",
    "plt.savefig(\"reviews_by_manufacturer.png\", bbox_inches = \"tight\");\n",
    "\n",
    "plt.show()"
   ]
  },
  {
   "cell_type": "code",
   "execution_count": 10,
   "id": "1ad938be",
   "metadata": {},
   "outputs": [
    {
     "data": {
      "image/png": "[encoded data removed]",
      "text/plain": [
       "<Figure size 432x288 with 1 Axes>"
      ]
     },
     "metadata": {},
     "output_type": "display_data"
    }
   ],
   "source": [
    "# Look at distribution of ratings (note most reviews have positive sentiment)\n",
    "\n",
    "ratings_labels = ['5 stars','4 stars','3 stars','2 stars','1 star']\n",
    "ratings_dist = df_jackets[\"review_ratings\"].value_counts(normalize = True).tolist()\n",
    "\n",
    "plt.pie(ratings_dist, labels = ratings_labels)\n",
    "plt.title('Mostly Positive Sentiment', fontsize=14)\n",
    "plt.savefig(\"ratings_dist.png\", bbox_inches = \"tight\");"
   ]
  },
  {
   "cell_type": "code",
   "execution_count": 11,
   "id": "5d68c60f",
   "metadata": {},
   "outputs": [],
   "source": [
    "df_jackets.to_pickle(\"df_jackets_final.pkl\")"
   ]
  }
 ],
 "metadata": {
  "kernelspec": {
   "display_name": "Python 3",
   "language": "python",
   "name": "python3"
  },
  "language_info": {
   "codemirror_mode": {
    "name": "ipython",
    "version": 3
   },
   "file_extension": ".py",
   "mimetype": "text/x-python",
   "name": "python",
   "nbconvert_exporter": "python",
   "pygments_lexer": "ipython3",
   "version": "3.8.8"
  }
 },
 "nbformat": 4,
 "nbformat_minor": 5
}
