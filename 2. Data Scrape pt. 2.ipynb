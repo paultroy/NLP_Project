{
 "cells": [
  {
   "cell_type": "code",
   "execution_count": 1,
   "id": "3361e987",
   "metadata": {},
   "outputs": [],
   "source": [
    "from selenium import webdriver\n",
    "from bs4 import BeautifulSoup\n",
    "import requests\n",
    "import time\n",
    "import pandas as pd\n",
    "import numpy as np"
   ]
  },
  {
   "cell_type": "code",
   "execution_count": 2,
   "id": "38b52e61",
   "metadata": {},
   "outputs": [],
   "source": [
    "# Initialize web driver for scraping\n",
    "\n",
    "chromedriver = \"/Applications/chromedriver 2\"\n",
    "driver = webdriver.Chrome(chromedriver)"
   ]
  },
  {
   "cell_type": "code",
   "execution_count": 3,
   "id": "d9b445a4",
   "metadata": {},
   "outputs": [],
   "source": [
    "# Create dictionary for scraped ski jacket information\n",
    "\n",
    "def scrape_evo_jackets(link):\n",
    "    \n",
    "    jacket_dict = {\"url\":[],\"jacket_name\":[],\"jacket_price\":[],\"total_rating\":[], \"num_reviews\":[], \n",
    "                   \"review_titles\": [], \"review_ratings\":[], \"review_text\":[]}\n",
    "    \n",
    "    response = driver.get(link)\n",
    "    time.sleep(3)\n",
    "    soup = BeautifulSoup(driver.page_source, 'lxml')\n",
    "    \n",
    "    jacket_name = soup.find('div', id = 'buy-grid').find('h1')\n",
    "    jacket_price = soup.find('span', id = 'price-display')\n",
    "    total_rating = soup.find('div', class_ = 'pr-snippet-rating-decimal')\n",
    "    num_reviews = soup.find('span', class_ = 'pr-snippet-review-count')\n",
    "    \n",
    "    review_titles = [desc.text if desc != None else np.nan \n",
    "                     for desc in soup.find_all(\"h2\", {\"class\": \"pr-rd-review-headline\"})]\n",
    "    \n",
    "    review_ratings = [item.text if element != None else np.nan \n",
    "                      for element in soup.find_all(\"div\", {\"class\": \"pr-review\"})\n",
    "                      for item in element.find_all(\"div\", class_ = \"pr-snippet-rating-decimal\")]\n",
    "    \n",
    "    review_text = [item.text if element != None else np.nan \n",
    "                   for element in soup.find_all(\"section\", {\"class\": \"pr-rd-description pr-rd-content-block\"})\n",
    "                   for item in element.find_all(\"p\", {\"class\": \"pr-rd-description-text\"})]\n",
    "    \n",
    "    jacket_dict[\"url\"].append(link)\n",
    "    \n",
    "    if jacket_name != None:\n",
    "        jacket_dict[\"jacket_name\"].append(jacket_name.text.strip())\n",
    "    else:\n",
    "        jacket_dict[\"jacket_name\"].append(np.nan)\n",
    "    \n",
    "    if jacket_price != None:\n",
    "        jacket_dict[\"jacket_price\"].append(jacket_price.text)\n",
    "    else:\n",
    "        jacket_dict[\"jacket_price\"].append(np.nan)\n",
    "    \n",
    "    if total_rating != None:\n",
    "        jacket_dict[\"total_rating\"].append(float(total_rating.text))\n",
    "    else:\n",
    "        jacket_dict[\"total_rating\"].append(np.nan)\n",
    "    \n",
    "    if num_reviews != None:\n",
    "        jacket_dict[\"num_reviews\"].append(num_reviews.text)\n",
    "    else:\n",
    "        jacket_dict[\"num_reviews\"].append(np.nan)\n",
    "    \n",
    "    if review_titles != None:\n",
    "        jacket_dict[\"review_titles\"].append(review_titles)\n",
    "    else:\n",
    "        jacket_dict[\"review_titles\"].append(np.nan)\n",
    "    \n",
    "    if review_ratings != None:\n",
    "        jacket_dict[\"review_ratings\"].append(review_ratings)\n",
    "    else:\n",
    "        jacket_dict[\"review_ratings\"].append(np.nan)   \n",
    "    \n",
    "    if review_text != None:\n",
    "        jacket_dict[\"review_text\"].append(review_text)\n",
    "    else:\n",
    "        jacket_dict[\"review_text\"].append(np.nan)\n",
    "    \n",
    "    return jacket_dict"
   ]
  },
  {
   "cell_type": "code",
   "execution_count": 4,
   "id": "9bbd9e2c",
   "metadata": {},
   "outputs": [],
   "source": [
    "# Load list of ski jacket urls \n",
    "\n",
    "jackets_url_list = pd.read_csv(\"jackets_url_list.csv\", names = [\"url\"], header = 0, index_col = 0)"
   ]
  },
  {
   "cell_type": "code",
   "execution_count": 5,
   "id": "0f85d1bf",
   "metadata": {},
   "outputs": [
    {
     "data": {
      "text/html": [
       "<div>\n",
       "<style scoped>\n",
       "    .dataframe tbody tr th:only-of-type {\n",
       "        vertical-align: middle;\n",
       "    }\n",
       "\n",
       "    .dataframe tbody tr th {\n",
       "        vertical-align: top;\n",
       "    }\n",
       "\n",
       "    .dataframe thead th {\n",
       "        text-align: right;\n",
       "    }\n",
       "</style>\n",
       "<table border=\"1\" class=\"dataframe\">\n",
       "  <thead>\n",
       "    <tr style=\"text-align: right;\">\n",
       "      <th></th>\n",
       "      <th>url</th>\n",
       "    </tr>\n",
       "  </thead>\n",
       "  <tbody>\n",
       "    <tr>\n",
       "      <th>0</th>\n",
       "      <td>https://www.evo.com/outlet/shell-jackets/thirt...</td>\n",
       "    </tr>\n",
       "    <tr>\n",
       "      <th>1</th>\n",
       "      <td>https://www.evo.com/insulated-jackets/l1-fairb...</td>\n",
       "    </tr>\n",
       "    <tr>\n",
       "      <th>2</th>\n",
       "      <td>https://www.evo.com/insulated-jackets/686-glcr...</td>\n",
       "    </tr>\n",
       "    <tr>\n",
       "      <th>3</th>\n",
       "      <td>https://www.evo.com/outlet/shell-jackets/dakin...</td>\n",
       "    </tr>\n",
       "    <tr>\n",
       "      <th>4</th>\n",
       "      <td>https://www.evo.com/outlet/shell-jackets/oakle...</td>\n",
       "    </tr>\n",
       "  </tbody>\n",
       "</table>\n",
       "</div>"
      ],
      "text/plain": [
       "                                                 url\n",
       "0  https://www.evo.com/outlet/shell-jackets/thirt...\n",
       "1  https://www.evo.com/insulated-jackets/l1-fairb...\n",
       "2  https://www.evo.com/insulated-jackets/686-glcr...\n",
       "3  https://www.evo.com/outlet/shell-jackets/dakin...\n",
       "4  https://www.evo.com/outlet/shell-jackets/oakle..."
      ]
     },
     "execution_count": 5,
     "metadata": {},
     "output_type": "execute_result"
    }
   ],
   "source": [
    "jackets_url_list.head()"
   ]
  },
  {
   "cell_type": "code",
   "execution_count": 6,
   "id": "8654bf1b",
   "metadata": {},
   "outputs": [],
   "source": [
    "# Run scrape function for all urls\n",
    "\n",
    "jackets_list = [scrape_evo_jackets(link) for link in jackets_url_list[\"url\"]]"
   ]
  },
  {
   "cell_type": "code",
   "execution_count": 7,
   "id": "f37175c6",
   "metadata": {},
   "outputs": [],
   "source": [
    "df_jackets = pd.DataFrame(jackets_list)"
   ]
  },
  {
   "cell_type": "code",
   "execution_count": 8,
   "id": "82de3fc6",
   "metadata": {},
   "outputs": [],
   "source": [
    "df_jackets.to_csv(\"jackets_list.csv\")\n",
    "df_jackets.to_pickle(\"jackets_list.pkl\")"
   ]
  }
 ],
 "metadata": {
  "kernelspec": {
   "display_name": "Python 3",
   "language": "python",
   "name": "python3"
  },
  "language_info": {
   "codemirror_mode": {
    "name": "ipython",
    "version": 3
   },
   "file_extension": ".py",
   "mimetype": "text/x-python",
   "name": "python",
   "nbconvert_exporter": "python",
   "pygments_lexer": "ipython3",
   "version": "3.8.8"
  }
 },
 "nbformat": 4,
 "nbformat_minor": 5
}
