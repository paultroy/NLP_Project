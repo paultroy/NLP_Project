{
 "cells": [
  {
   "cell_type": "code",
   "execution_count": 1,
   "id": "c1c0732d",
   "metadata": {},
   "outputs": [],
   "source": [
    "from selenium import webdriver\n",
    "from bs4 import BeautifulSoup\n",
    "import requests\n",
    "import time\n",
    "import pandas as pd\n",
    "import numpy as np"
   ]
  },
  {
   "cell_type": "code",
   "execution_count": 2,
   "id": "0d63c158",
   "metadata": {},
   "outputs": [],
   "source": [
    "# Initialize web driver for scraping\n",
    "\n",
    "chromedriver = \"/Applications/chromedriver 2\"\n",
    "driver = webdriver.Chrome(chromedriver)"
   ]
  },
  {
   "cell_type": "code",
   "execution_count": 3,
   "id": "23acbe47",
   "metadata": {
    "scrolled": true
   },
   "outputs": [],
   "source": [
    "# Scrape ski jacket urls for page 1 on Evo.com (400 jackets per page)\n",
    "\n",
    "url_page1 = \"https://www.evo.com/shop/mens/womens/rpp_400?text=ski+jackets\"\n",
    "driver.get(url_page1)\n",
    "soup_page1 = BeautifulSoup(driver.page_source, 'html.parser')\n",
    "\n",
    "jackets_page1 = []\n",
    "\n",
    "for item in soup_page1.find_all('div', class_ = 'product-thumb-details'):\n",
    "    for link in item.find_all('a'):\n",
    "        jackets_page1.append(\"https://www.evo.com\" + link.get('href'))\n",
    "\n",
    "jackets_page1 = set(jackets_page1)"
   ]
  },
  {
   "cell_type": "code",
   "execution_count": 4,
   "id": "aea4fa05",
   "metadata": {
    "scrolled": true
   },
   "outputs": [],
   "source": [
    "# Scrape ski jacket urls for page 2 on Evo.com (400 jackets per page)\n",
    "\n",
    "url_page2 = \"https://www.evo.com/shop/mens/womens/p_2/rpp_400?text=ski+jackets\"\n",
    "response_page2 = requests.get(url_page2)\n",
    "soup_page2 = BeautifulSoup(response_page2.text, 'html.parser')\n",
    "\n",
    "jackets_page2 = []\n",
    "\n",
    "for item in soup_page2.find_all('div', class_ = 'product-thumb-details'):\n",
    "    for link in item.find_all('a'):\n",
    "        jackets_page2.append(\"https://www.evo.com\" + link.get('href'))\n",
    "\n",
    "jackets_page2 = set(jackets_page2)"
   ]
  },
  {
   "cell_type": "code",
   "execution_count": 5,
   "id": "0b2ab4c6",
   "metadata": {},
   "outputs": [],
   "source": [
    "# Scrape ski jacket urls for page 3 on Evo.com (400 jackets per page)\n",
    "\n",
    "url_page3 = \"https://www.evo.com/shop/mens/womens/p_3/rpp_400?text=ski+jackets\"\n",
    "response_page3 = requests.get(url_page3)\n",
    "soup_page3 = BeautifulSoup(response_page3.text, 'html.parser')\n",
    "\n",
    "jackets_page3 = []\n",
    "\n",
    "for item in soup_page3.find_all('div', class_ = 'product-thumb-details'):\n",
    "    for link in item.find_all('a'):\n",
    "        jackets_page3.append(\"https://www.evo.com\" + link.get('href'))\n",
    "\n",
    "jackets_page3 = set(jackets_page3)"
   ]
  },
  {
   "cell_type": "code",
   "execution_count": 6,
   "id": "80b038a6",
   "metadata": {},
   "outputs": [],
   "source": [
    "# Combine the 3 scraped lists of ski jacket urls\n",
    "\n",
    "jackets_url_list = list(jackets_page1) + list(jackets_page2) + list(jackets_page3)"
   ]
  },
  {
   "cell_type": "code",
   "execution_count": 7,
   "id": "4f2a0879",
   "metadata": {},
   "outputs": [],
   "source": [
    "df = pd.DataFrame(jackets_url_list)\n",
    "df.to_csv(\"jackets_url_list.csv\")"
   ]
  }
 ],
 "metadata": {
  "kernelspec": {
   "display_name": "Python 3",
   "language": "python",
   "name": "python3"
  },
  "language_info": {
   "codemirror_mode": {
    "name": "ipython",
    "version": 3
   },
   "file_extension": ".py",
   "mimetype": "text/x-python",
   "name": "python",
   "nbconvert_exporter": "python",
   "pygments_lexer": "ipython3",
   "version": "3.8.8"
  }
 },
 "nbformat": 4,
 "nbformat_minor": 5
}
